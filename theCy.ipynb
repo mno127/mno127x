{
  "nbformat": 4,
  "nbformat_minor": 0,
  "metadata": {
    "colab": {
      "provenance": [],
      "toc_visible": true,
      "mount_file_id": "1quE9a08mxHIIAECufbu3li0S6InmZhAn",
      "authorship_tag": "ABX9TyOjsRhe8q3dIcz3KcCZ48q5",
      "include_colab_link": true
    },
    "kernelspec": {
      "name": "python3",
      "display_name": "Python 3"
    },
    "language_info": {
      "name": "python"
    }
  },
  "cells": [
    {
      "cell_type": "markdown",
      "metadata": {
        "id": "view-in-github",
        "colab_type": "text"
      },
      "source": [
        "<a href=\"https://colab.research.google.com/github/mno127/mno127x/blob/main/theCy.ipynb\" target=\"_parent\"><img src=\"https://colab.research.google.com/assets/colab-badge.svg\" alt=\"Open In Colab\"/></a>"
      ]
    },
    {
      "cell_type": "code",
      "execution_count": null,
      "metadata": {
        "id": "F_LmfkIQ0k5Z"
      },
      "outputs": [],
      "source": []
    },
    {
      "cell_type": "markdown",
      "source": [
        "d# New Sectionddddd\n",
        "sdsd\n",
        "sdsd\n"
      ],
      "metadata": {
        "id": "fIXLV9SU1HE8"
      }
    },
    {
      "cell_type": "markdown",
      "source": [
        "# theBirth"
      ],
      "metadata": {
        "id": "F6qYrIpD2AI1"
      }
    },
    {
      "cell_type": "markdown",
      "source": [
        "first load of theCy folder"
      ],
      "metadata": {
        "id": "vH8px0Lk2GEa"
      }
    }
  ]
}